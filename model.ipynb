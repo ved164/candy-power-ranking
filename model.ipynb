{
 "cells": [
  {
   "cell_type": "code",
   "execution_count": 118,
   "metadata": {},
   "outputs": [],
   "source": [
    "# Import basic packages\n",
    "import numpy as np\n",
    "import pandas as pd\n",
    "import matplotlib.pyplot as plt\n",
    "from sklearn.model_selection import train_test_split\n",
    "from sklearn.preprocessing import StandardScaler\n"
   ]
  },
  {
   "cell_type": "code",
   "execution_count": 119,
   "metadata": {},
   "outputs": [],
   "source": [
    "# Import models\n",
    "from sklearn.linear_model import LinearRegression, LogisticRegression\n",
    "from sklearn.neighbors import KNeighborsClassifier\n",
    "from sklearn.tree import DecisionTreeRegressor\n",
    "from sklearn.ensemble import RandomForestRegressor\n",
    "from sklearn.decomposition import PCA\n",
    "from sklearn.cluster import KMeans"
   ]
  },
  {
   "cell_type": "code",
   "execution_count": 120,
   "metadata": {},
   "outputs": [],
   "source": [
    "# Import model comparison metrics\n",
    "from sklearn.metrics import mean_squared_error, auc, r2_score"
   ]
  },
  {
   "cell_type": "code",
   "execution_count": 121,
   "metadata": {},
   "outputs": [],
   "source": [
    "# Import dataset\n",
    "\n",
    "df = pd.read_csv('candy-data.csv')"
   ]
  },
  {
   "cell_type": "code",
   "execution_count": 122,
   "metadata": {},
   "outputs": [],
   "source": [
    "# List of independent variables\n",
    "characteristics = ['chocolate', 'fruity', 'caramel', 'peanutyalmondy', 'nougat', 'crispedricewafer', 'hard', 'bar', 'pluribus']"
   ]
  },
  {
   "cell_type": "markdown",
   "metadata": {},
   "source": [
    "### PCA\n",
    "\n",
    "Carrying out a principal component analysis for identifyig and verifying variable importanct on data explainability."
   ]
  },
  {
   "cell_type": "code",
   "execution_count": 123,
   "metadata": {},
   "outputs": [],
   "source": [
    "# Split data into independent variables and target variable\n",
    "X = df.drop(columns= ['winpercent', 'competitorname'])\n",
    "y = df.winpercent"
   ]
  },
  {
   "cell_type": "code",
   "execution_count": 124,
   "metadata": {},
   "outputs": [],
   "source": [
    "# # Standaridize the values\n",
    "\n",
    "# std_scaler = StandardScaler()\n",
    "# X_scaled = std_scaler.fit_transform(X=X)\n",
    "\n",
    "# # PCA\n",
    "\n",
    "# pca = PCA(random_state=42)\n",
    "# X_pca = pca.fit_transform(X_scaled)"
   ]
  },
  {
   "cell_type": "code",
   "execution_count": 125,
   "metadata": {},
   "outputs": [],
   "source": [
    "# # init plot\n",
    "# fig, ax = plt.subplots(1, 2, sharey=True)\n",
    "# fig.set_size_inches(15, 5)\n",
    "\n",
    "\n",
    "# # explained variance ratio as bar chart\n",
    "# ax[0].bar([i for i in range(1,len(pca.explained_variance_ratio_) + 1)], height = pca.explained_variance_ratio_)\n",
    "# ax[0].set_xlabel('Number of PCA component')\n",
    "# ax[0].set_ylabel('Explained Variance Ratio')\n",
    "\n",
    "# # cumulative explained variance ratio as bar chart\n",
    "# cummulative_exp_var = np.cumsum(pca.explained_variance_ratio_)\n",
    "# ax[1].bar([i for i in range(1,len(cummulative_exp_var) + 1)], height = cummulative_exp_var)\n",
    "# ax[1].set_xlabel('Number of PCA component')\n",
    "# ax[1].set_ylabel('Cumulative Explained Variance Ratio')\n",
    "# plt.show()"
   ]
  },
  {
   "cell_type": "code",
   "execution_count": 126,
   "metadata": {},
   "outputs": [],
   "source": [
    "# # which features contribute the most or are more important for each component?\n",
    "# pca_components = pca.components_\n",
    "\n",
    "# # transpose for better usage\n",
    "# # now the rows represents the features\n",
    "# pca_comp_t = np.transpose(pca_components)\n",
    "\n",
    "# features = X.columns\n",
    "# n_features = len(features)\n",
    "# pca_idxs = np.arange(1, len(features)+1)\n",
    "# x_labels = [\"PCA {}\".format(i) for i in range(1, n_features + 1)]\n",
    "# bar_width = 0.8\n",
    "\n",
    "# # define subplots dimension\n",
    "# n_rows = 4\n",
    "# n_cols = 4\n",
    "\n",
    "# fig, ax = plt.subplots(n_rows, n_cols, sharex=False, sharey=True)\n",
    "# fig.set_size_inches(40, 40)\n",
    "\n",
    "# rects = []\n",
    "# index = 0\n",
    "\n",
    "# # iterate through subplots\n",
    "# for r in range(n_rows):\n",
    "#     for c in range(n_cols):\n",
    "#         if index >= n_features:\n",
    "#             ax[r,c].set_visible(False)\n",
    "#         else:\n",
    "#             # draw the bar chart\n",
    "#             rect = ax[r,c].bar(pca_idxs, pca_comp_t[index], bar_width)\n",
    "#             ax[r,c].set_xticks(pca_idxs)\n",
    "#             ax[r,c].set_xticklabels(x_labels)\n",
    "#             ax[r,c].set_ylabel('Contribution')\n",
    "#             ax[r,c].set_xlabel(features[index])\n",
    "#             index += 1\n",
    "\n",
    "# plt.show()"
   ]
  },
  {
   "cell_type": "markdown",
   "metadata": {},
   "source": [
    "## kMeans\n",
    "\n",
    "1. From the EDA, we realized that chocolate is a must have component for the new candy\n",
    "2. fruity and chocolate do not got together\n",
    "3. The candies at the bottom of the winpercent table are almost all 'pluribus' i.e. appearing as small candies in a packet\n",
    "4. There are no hard candies in top performing candies\n",
    "5. There are almost no bars in the bottom performing candies, but candies which are have 'bar' characteristic do appear in the top performing candies\n",
    "\n",
    "Therefore, we drop these from our "
   ]
  },
  {
   "cell_type": "code",
   "execution_count": 127,
   "metadata": {},
   "outputs": [
    {
     "data": {
      "image/png": "[encoded data removed]",
      "text/plain": [
       "<Figure size 864x576 with 1 Axes>"
      ]
     },
     "metadata": {
      "needs_background": "light"
     },
     "output_type": "display_data"
    }
   ],
   "source": [
    "# K means clustering to find main combinations\n",
    "k_labels = [\"caramel\", \"peanutyalmondy\", \"nougat\", \"crispedricewafer\", \"winpercent\"]\n",
    "\n",
    "df = df.drop([\"competitorname\", \"sugarpercent\", \"pricepercent\"],axis=1)\n",
    "\n",
    "df = df[(df[\"chocolate\"] == 1) & (df[\"bar\"] == 1) & (df[\"fruity\"] == 0)]\n",
    "df = df[k_labels]\n",
    "df[\"winpercent\"] = df[\"winpercent\"]/100  # scale to fit categorical data distances\n",
    "\n",
    "df_KMeans = df\n",
    "\n",
    "## unique candy classes\n",
    "unique_candy_classes = len(df_KMeans.drop_duplicates())\n",
    "\n",
    "## elbow method\n",
    "distortions = []\n",
    "K = range(1,unique_candy_classes)\n",
    "for k in K:\n",
    "    kmeanModel = KMeans(n_clusters=k)\n",
    "    kmeanModel.fit(df_KMeans)\n",
    "    distortions.append(kmeanModel.inertia_)\n",
    "\n",
    "\n",
    "# graphics\n",
    "fig = plt.figure(figsize=(12,8))\n",
    "plt.title('The Elbow Method')\n",
    "plt.plot(K, distortions, '+-', color=\"black\")\n",
    "plt.xlabel('groups'); plt.ylabel('Distortion'); plt.grid(True)\n",
    "\n",
    "\n",
    "plt.show()"
   ]
  },
  {
   "cell_type": "markdown",
   "metadata": {},
   "source": [
    "according to the above graph, k = 9 is the ideal value"
   ]
  },
  {
   "cell_type": "code",
   "execution_count": 129,
   "metadata": {},
   "outputs": [
    {
     "name": "stdout",
     "output_type": "stream",
     "text": [
      "Main Candy subgroups\n",
      "\n"
     ]
    },
    {
     "data": {
      "text/html": [
       "<div>\n",
       "<style scoped>\n",
       "    .dataframe tbody tr th:only-of-type {\n",
       "        vertical-align: middle;\n",
       "    }\n",
       "\n",
       "    .dataframe tbody tr th {\n",
       "        vertical-align: top;\n",
       "    }\n",
       "\n",
       "    .dataframe thead th {\n",
       "        text-align: right;\n",
       "    }\n",
       "</style>\n",
       "<table border=\"1\" class=\"dataframe\">\n",
       "  <thead>\n",
       "    <tr style=\"text-align: right;\">\n",
       "      <th></th>\n",
       "      <th>caramel</th>\n",
       "      <th>peanutyalmondy</th>\n",
       "      <th>nougat</th>\n",
       "      <th>crispedricewafer</th>\n",
       "      <th>winpercent</th>\n",
       "    </tr>\n",
       "  </thead>\n",
       "  <tbody>\n",
       "    <tr>\n",
       "      <th>0</th>\n",
       "      <td>1.0</td>\n",
       "      <td>0.0</td>\n",
       "      <td>0.0</td>\n",
       "      <td>1.0</td>\n",
       "      <td>74.3</td>\n",
       "    </tr>\n",
       "    <tr>\n",
       "      <th>4</th>\n",
       "      <td>0.0</td>\n",
       "      <td>0.0</td>\n",
       "      <td>0.0</td>\n",
       "      <td>1.0</td>\n",
       "      <td>68.5</td>\n",
       "    </tr>\n",
       "    <tr>\n",
       "      <th>2</th>\n",
       "      <td>1.0</td>\n",
       "      <td>0.0</td>\n",
       "      <td>1.0</td>\n",
       "      <td>0.0</td>\n",
       "      <td>67.0</td>\n",
       "    </tr>\n",
       "    <tr>\n",
       "      <th>5</th>\n",
       "      <td>1.0</td>\n",
       "      <td>1.0</td>\n",
       "      <td>1.0</td>\n",
       "      <td>0.0</td>\n",
       "      <td>66.8</td>\n",
       "    </tr>\n",
       "    <tr>\n",
       "      <th>8</th>\n",
       "      <td>1.0</td>\n",
       "      <td>0.0</td>\n",
       "      <td>0.0</td>\n",
       "      <td>0.0</td>\n",
       "      <td>64.4</td>\n",
       "    </tr>\n",
       "    <tr>\n",
       "      <th>7</th>\n",
       "      <td>1.0</td>\n",
       "      <td>1.0</td>\n",
       "      <td>0.0</td>\n",
       "      <td>1.0</td>\n",
       "      <td>59.5</td>\n",
       "    </tr>\n",
       "    <tr>\n",
       "      <th>1</th>\n",
       "      <td>0.0</td>\n",
       "      <td>1.0</td>\n",
       "      <td>0.0</td>\n",
       "      <td>0.0</td>\n",
       "      <td>58.5</td>\n",
       "    </tr>\n",
       "    <tr>\n",
       "      <th>3</th>\n",
       "      <td>0.0</td>\n",
       "      <td>0.0</td>\n",
       "      <td>0.0</td>\n",
       "      <td>0.0</td>\n",
       "      <td>53.3</td>\n",
       "    </tr>\n",
       "    <tr>\n",
       "      <th>6</th>\n",
       "      <td>0.0</td>\n",
       "      <td>0.0</td>\n",
       "      <td>1.0</td>\n",
       "      <td>0.0</td>\n",
       "      <td>53.3</td>\n",
       "    </tr>\n",
       "  </tbody>\n",
       "</table>\n",
       "</div>"
      ],
      "text/plain": [
       "   caramel  peanutyalmondy  nougat  crispedricewafer  winpercent\n",
       "0      1.0             0.0     0.0               1.0        74.3\n",
       "4      0.0             0.0     0.0               1.0        68.5\n",
       "2      1.0             0.0     1.0               0.0        67.0\n",
       "5      1.0             1.0     1.0               0.0        66.8\n",
       "8      1.0             0.0     0.0               0.0        64.4\n",
       "7      1.0             1.0     0.0               1.0        59.5\n",
       "1      0.0             1.0     0.0               0.0        58.5\n",
       "3      0.0             0.0     0.0               0.0        53.3\n",
       "6      0.0             0.0     1.0               0.0        53.3"
      ]
     },
     "execution_count": 129,
     "metadata": {},
     "output_type": "execute_result"
    }
   ],
   "source": [
    "kmeanModel = KMeans(n_clusters=9)\n",
    "kmeanModel.fit(df_KMeans)\n",
    "\n",
    "df = pd.DataFrame (data=np.round(kmeanModel.cluster_centers_, 3), columns=k_labels)\n",
    "df['winpercent'] = df['winpercent']*100  # unscale winpercent to range 0-100\n",
    "print ('Main Candy subgroups\\n')\n",
    "df.sort_values('winpercent', ascending=False)"
   ]
  },
  {
   "cell_type": "markdown",
   "metadata": {},
   "source": [
    "According the k-means clustering, the best ingredients to build mixed chocolate bar are:\n",
    "1. caramel\n",
    "2. crispedricewafer\n",
    "3. peanutyalmondy"
   ]
  },
  {
   "cell_type": "code",
   "execution_count": null,
   "metadata": {},
   "outputs": [],
   "source": []
  }
 ],
 "metadata": {
  "interpreter": {
   "hash": "50d75a5ff341a08d39dc1cdb17a82b4a5a2299d7505c981643fe8a7f617eaf84"
  },
  "kernelspec": {
   "display_name": "Python 3.6.13 ('prep_env')",
   "language": "python",
   "name": "python3"
  },
  "language_info": {
   "codemirror_mode": {
    "name": "ipython",
    "version": 3
   },
   "file_extension": ".py",
   "mimetype": "text/x-python",
   "name": "python",
   "nbconvert_exporter": "python",
   "pygments_lexer": "ipython3",
   "version": "3.6.13"
  },
  "orig_nbformat": 4
 },
 "nbformat": 4,
 "nbformat_minor": 2
}
