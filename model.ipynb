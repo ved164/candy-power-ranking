{
 "cells": [
  {
   "cell_type": "code",
   "execution_count": 1,
   "metadata": {},
   "outputs": [],
   "source": [
    "# Import basic packages\n",
    "import numpy as np\n",
    "import pandas as pd\n",
    "import matplotlib.pyplot as plt\n",
    "from sklearn.model_selection import train_test_split\n",
    "from sklearn.preprocessing import StandardScaler\n"
   ]
  },
  {
   "cell_type": "code",
   "execution_count": 2,
   "metadata": {},
   "outputs": [],
   "source": [
    "# Import models\n",
    "from sklearn.linear_model import LinearRegression, LogisticRegression\n",
    "from sklearn.neighbors import KNeighborsClassifier\n",
    "from sklearn.tree import DecisionTreeRegressor\n",
    "from sklearn.ensemble import RandomForestRegressor\n",
    "from sklearn.decomposition import PCA\n",
    "from sklearn.cluster import KMeans"
   ]
  },
  {
   "cell_type": "code",
   "execution_count": 3,
   "metadata": {},
   "outputs": [],
   "source": [
    "# Import model comparison metrics\n",
    "from sklearn.metrics import mean_squared_error, auc, r2_score"
   ]
  },
  {
   "cell_type": "code",
   "execution_count": 4,
   "metadata": {},
   "outputs": [],
   "source": [
    "# Import dataset\n",
    "\n",
    "df = pd.read_csv('candy-data.csv')"
   ]
  },
  {
   "cell_type": "code",
   "execution_count": 5,
   "metadata": {},
   "outputs": [],
   "source": [
    "df_clustering = df\n",
    "df_regression = df.drop(columns= ['competitorname'])"
   ]
  },
  {
   "cell_type": "code",
   "execution_count": 6,
   "metadata": {},
   "outputs": [],
   "source": [
    "# List of independent variables\n",
    "characteristics = ['chocolate', 'fruity', 'caramel', 'peanutyalmondy', 'nougat', 'crispedricewafer', 'hard', 'bar', 'pluribus']"
   ]
  },
  {
   "cell_type": "markdown",
   "metadata": {},
   "source": [
    "<b> Clustering Analysis </b>\n",
    "\n",
    "1. From the EDA, we realized that chocolate is a must have component for the new candy\n",
    "2. fruity and chocolate do not got together\n",
    "3. The candies at the bottom of the winpercent table are almost all 'pluribus' i.e. appearing as small candies in a packet\n",
    "4. There are no hard candies in top performing candies\n",
    "5. There are almost no bars in the bottom performing candies, but candies which are have 'bar' characteristic do appear in the top performing candies\n",
    "\n",
    "Therefore, we drop columns --> 'sugarpercent', 'pricepercent' for the purpose of our analysis"
   ]
  },
  {
   "cell_type": "code",
   "execution_count": 7,
   "metadata": {},
   "outputs": [
    {
     "data": {
      "image/png": "[encoded data removed]",
      "text/plain": [
       "<Figure size 864x576 with 1 Axes>"
      ]
     },
     "metadata": {
      "needs_background": "light"
     },
     "output_type": "display_data"
    }
   ],
   "source": [
    "# K means clustering to find main combinations\n",
    "k_labels = ['caramel', 'peanutyalmondy', 'nougat', 'crispedricewafer', 'winpercent']\n",
    "\n",
    "df_clustering = df_clustering.drop(['competitorname', 'sugarpercent', 'pricepercent'],axis=1)\n",
    "\n",
    "df_clustering = df_clustering[(df_clustering['chocolate'] == 1) & (df_clustering['bar'] == 1) & (df_clustering['fruity'] == 0)]\n",
    "df_clustering = df_clustering[k_labels]\n",
    "df_clustering['winpercent'] = df_clustering['winpercent']/100  # scale to fit categorical data distances\n",
    "\n",
    "df_KMeans = df_clustering\n",
    "\n",
    "## unique candy classes\n",
    "unique_candy_classes = len(df_KMeans.drop_duplicates())\n",
    "\n",
    "## elbow method\n",
    "distortions = []\n",
    "K = range(1,unique_candy_classes)\n",
    "for k in K:\n",
    "    kmeanModel = KMeans(n_clusters=k)\n",
    "    kmeanModel.fit(df_KMeans)\n",
    "    distortions.append(kmeanModel.inertia_)\n",
    "\n",
    "\n",
    "# graphics\n",
    "fig = plt.figure(figsize=(12,8))\n",
    "plt.title('The Elbow Method')\n",
    "plt.plot(K, distortions, '+-', color='black')\n",
    "plt.xlabel('groups'); plt.ylabel('Distortion'); plt.grid(True)\n",
    "\n",
    "\n",
    "plt.show()"
   ]
  },
  {
   "cell_type": "markdown",
   "metadata": {},
   "source": [
    "according to the above graph, k = 9 is the ideal value"
   ]
  },
  {
   "cell_type": "code",
   "execution_count": 8,
   "metadata": {},
   "outputs": [
    {
     "name": "stdout",
     "output_type": "stream",
     "text": [
      "Main Candy subgroups\n",
      "\n"
     ]
    },
    {
     "data": {
      "text/html": [
       "<div>\n",
       "<style scoped>\n",
       "    .dataframe tbody tr th:only-of-type {\n",
       "        vertical-align: middle;\n",
       "    }\n",
       "\n",
       "    .dataframe tbody tr th {\n",
       "        vertical-align: top;\n",
       "    }\n",
       "\n",
       "    .dataframe thead th {\n",
       "        text-align: right;\n",
       "    }\n",
       "</style>\n",
       "<table border=\"1\" class=\"dataframe\">\n",
       "  <thead>\n",
       "    <tr style=\"text-align: right;\">\n",
       "      <th></th>\n",
       "      <th>caramel</th>\n",
       "      <th>peanutyalmondy</th>\n",
       "      <th>nougat</th>\n",
       "      <th>crispedricewafer</th>\n",
       "      <th>winpercent</th>\n",
       "    </tr>\n",
       "  </thead>\n",
       "  <tbody>\n",
       "    <tr>\n",
       "      <th>6</th>\n",
       "      <td>1.0</td>\n",
       "      <td>0.0</td>\n",
       "      <td>0.0</td>\n",
       "      <td>1.0</td>\n",
       "      <td>74.3</td>\n",
       "    </tr>\n",
       "    <tr>\n",
       "      <th>0</th>\n",
       "      <td>0.0</td>\n",
       "      <td>0.0</td>\n",
       "      <td>0.0</td>\n",
       "      <td>1.0</td>\n",
       "      <td>68.5</td>\n",
       "    </tr>\n",
       "    <tr>\n",
       "      <th>1</th>\n",
       "      <td>1.0</td>\n",
       "      <td>0.0</td>\n",
       "      <td>1.0</td>\n",
       "      <td>0.0</td>\n",
       "      <td>67.0</td>\n",
       "    </tr>\n",
       "    <tr>\n",
       "      <th>5</th>\n",
       "      <td>1.0</td>\n",
       "      <td>1.0</td>\n",
       "      <td>1.0</td>\n",
       "      <td>0.0</td>\n",
       "      <td>66.8</td>\n",
       "    </tr>\n",
       "    <tr>\n",
       "      <th>8</th>\n",
       "      <td>1.0</td>\n",
       "      <td>0.0</td>\n",
       "      <td>0.0</td>\n",
       "      <td>0.0</td>\n",
       "      <td>64.4</td>\n",
       "    </tr>\n",
       "    <tr>\n",
       "      <th>4</th>\n",
       "      <td>1.0</td>\n",
       "      <td>1.0</td>\n",
       "      <td>0.0</td>\n",
       "      <td>1.0</td>\n",
       "      <td>59.5</td>\n",
       "    </tr>\n",
       "    <tr>\n",
       "      <th>2</th>\n",
       "      <td>0.0</td>\n",
       "      <td>1.0</td>\n",
       "      <td>0.0</td>\n",
       "      <td>0.0</td>\n",
       "      <td>58.5</td>\n",
       "    </tr>\n",
       "    <tr>\n",
       "      <th>3</th>\n",
       "      <td>0.0</td>\n",
       "      <td>0.0</td>\n",
       "      <td>0.0</td>\n",
       "      <td>0.0</td>\n",
       "      <td>53.3</td>\n",
       "    </tr>\n",
       "    <tr>\n",
       "      <th>7</th>\n",
       "      <td>0.0</td>\n",
       "      <td>0.0</td>\n",
       "      <td>1.0</td>\n",
       "      <td>0.0</td>\n",
       "      <td>53.3</td>\n",
       "    </tr>\n",
       "  </tbody>\n",
       "</table>\n",
       "</div>"
      ],
      "text/plain": [
       "   caramel  peanutyalmondy  nougat  crispedricewafer  winpercent\n",
       "6      1.0             0.0     0.0               1.0        74.3\n",
       "0      0.0             0.0     0.0               1.0        68.5\n",
       "1      1.0             0.0     1.0               0.0        67.0\n",
       "5      1.0             1.0     1.0               0.0        66.8\n",
       "8      1.0             0.0     0.0               0.0        64.4\n",
       "4      1.0             1.0     0.0               1.0        59.5\n",
       "2      0.0             1.0     0.0               0.0        58.5\n",
       "3      0.0             0.0     0.0               0.0        53.3\n",
       "7      0.0             0.0     1.0               0.0        53.3"
      ]
     },
     "execution_count": 8,
     "metadata": {},
     "output_type": "execute_result"
    }
   ],
   "source": [
    "kmeanModel = KMeans(n_clusters=9)\n",
    "kmeanModel.fit(df_KMeans)\n",
    "\n",
    "df = pd.DataFrame (data=np.round(kmeanModel.cluster_centers_, 3), columns=k_labels)\n",
    "df['winpercent'] = df['winpercent']*100  # unscale winpercent to range 0-100\n",
    "print ('Main Candy subgroups\\n')\n",
    "df.sort_values('winpercent', ascending=False)"
   ]
  },
  {
   "cell_type": "markdown",
   "metadata": {},
   "source": [
    "According the k-means clustering, the best ingredients to build mixed chocolate-bar are:\n",
    "1. caramel\n",
    "2. crispedricewafer\n",
    "3. peanutyalmondy"
   ]
  },
  {
   "cell_type": "markdown",
   "metadata": {},
   "source": [
    "<b> Regression Analysis </b>"
   ]
  },
  {
   "cell_type": "code",
   "execution_count": 9,
   "metadata": {},
   "outputs": [],
   "source": [
    "X = df_regression.drop(['winpercent', 'sugarpercent', 'pricepercent'], axis=1)\n",
    "y = df_regression['winpercent']\n"
   ]
  },
  {
   "cell_type": "code",
   "execution_count": 10,
   "metadata": {},
   "outputs": [
    {
     "data": {
      "text/plain": [
       "(85, 9)"
      ]
     },
     "execution_count": 10,
     "metadata": {},
     "output_type": "execute_result"
    }
   ],
   "source": [
    "X.shape"
   ]
  },
  {
   "cell_type": "code",
   "execution_count": 11,
   "metadata": {},
   "outputs": [
    {
     "data": {
      "text/plain": [
       "(85,)"
      ]
     },
     "execution_count": 11,
     "metadata": {},
     "output_type": "execute_result"
    }
   ],
   "source": [
    "y.shape"
   ]
  },
  {
   "cell_type": "code",
   "execution_count": 12,
   "metadata": {},
   "outputs": [],
   "source": [
    "# linear regression for categories\n",
    "linear_regression_model = LinearRegression(fit_intercept=True)\n",
    "linear_regression_model.fit(X, y)\n",
    "\n",
    "y_pred = linear_regression_model.predict(X)\n",
    "score = linear_regression_model.score(X, y)\n",
    "mse = mean_squared_error(y, y_pred)\n",
    "\n",
    "coeff = pd.DataFrame(linear_regression_model.coef_, X.columns, columns=['coef']).sort_values('coef', ascending = False)\n",
    "intercept  = linear_regression_model.intercept_\n"
   ]
  },
  {
   "cell_type": "code",
   "execution_count": 13,
   "metadata": {},
   "outputs": [
    {
     "name": "stdout",
     "output_type": "stream",
     "text": [
      "chocolate 19.905794550599964\n",
      "fruity 10.26773158023736\n",
      "caramel 3.3842817840265416\n",
      "peanutyalmondy 10.141017274687082\n",
      "nougat 2.416251761855696\n",
      "crispedricewafer 8.991549041710035\n",
      "hard -4.872560103227026\n",
      "bar -0.721966255352471\n",
      "pluribus -0.15991743153211088\n"
     ]
    }
   ],
   "source": [
    "for x,y in zip(X.columns, linear_regression_model.coef_): # coefficients of features.\n",
    "    print(x, y)"
   ]
  },
  {
   "cell_type": "markdown",
   "metadata": {},
   "source": [
    "<b> According to regression analysis, the recommendation for the new chocolate should be: </b>\n",
    "\n",
    "1. Chocolate will increase the winpercent by approx. 20 percent.\n",
    "2. peanutyalmondy will increase the winpercent by approx. 10 percent.\n",
    "3. crispedricewafer will increase the winpercent by approx. 9 percent.\n",
    "4. Although, fruity characteristic is high, from the EDA, we know that chocolate and fruity are negatively correlated and most of the fruity candies have pluribus characteristic rather than bar. Therefore, we do not consider fruity characteristic."
   ]
  },
  {
   "cell_type": "markdown",
   "metadata": {},
   "source": [
    "Final recommendations according to both analysis:\n",
    "\n",
    "1. Chocolate\n",
    "2. Peanut-almond-peanut_butter\n",
    "3. Crisped rice wafer\n",
    "\n",
    "Since bars are more preferable to pluribus, the candy should be in the form of a bar."
   ]
  }
 ],
 "metadata": {
  "interpreter": {
   "hash": "50d75a5ff341a08d39dc1cdb17a82b4a5a2299d7505c981643fe8a7f617eaf84"
  },
  "kernelspec": {
   "display_name": "Python 3.6.13 ('prep_env')",
   "language": "python",
   "name": "python3"
  },
  "language_info": {
   "codemirror_mode": {
    "name": "ipython",
    "version": 3
   },
   "file_extension": ".py",
   "mimetype": "text/x-python",
   "name": "python",
   "nbconvert_exporter": "python",
   "pygments_lexer": "ipython3",
   "version": "3.6.13"
  },
  "orig_nbformat": 4
 },
 "nbformat": 4,
 "nbformat_minor": 2
}
